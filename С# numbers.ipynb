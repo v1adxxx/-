{
 "cells": [
  {
   "cell_type": "markdown",
   "metadata": {},
   "source": [
    "# Числа и целочисленная математика\n",
    "\n",
    "Посмотрите полное [видео по C# 101](https://www.youtube.com/watch?v=jEE0pWTq54U&list=PLdo4fOcmZ0oVxKLQCHpiUWun7vlJJvUiN&index=5) для этого модуля."
   ]
  },
  {
   "cell_type": "markdown",
   "metadata": {},
   "source": [
    "## Целочисленная математика\n",
    "\n",
    "У вас есть несколько `целых чисел`, определенных ниже. `Целое число` — это положительное или отрицательное целое число.\n",
    "> Прежде чем запускать код, чем должно быть \"c\"?"
   ]
  },
  {
   "cell_type": "markdown",
   "metadata": {},
   "source": [
    "## Сложение"
   ]
  },
  {
   "cell_type": "code",
   "execution_count": null,
   "metadata": {
    "dotnet_interactive": {
     "language": "csharp"
    },
    "polyglot_notebook": {
     "kernelName": "csharp"
    }
   },
   "outputs": [
    {
     "name": "stdout",
     "output_type": "stream",
     "text": []
    }
   ],
   "source": [
    "int a = 18;\n",
    "int b = 6;\n",
    "int c = a + b;\n",
    "Console.WriteLine(c);"
   ]
  },
  {
   "cell_type": "markdown",
   "metadata": {},
   "source": [
    "## Вычитание"
   ]
  },
  {
   "cell_type": "code",
   "execution_count": null,
   "metadata": {
    "dotnet_interactive": {
     "language": "csharp"
    },
    "polyglot_notebook": {
     "kernelName": "csharp"
    }
   },
   "outputs": [
    {
     "name": "stdout",
     "output_type": "stream",
     "text": []
    }
   ],
   "source": [
    "int c = a - b;\n",
    "Console.WriteLine(c);"
   ]
  },
  {
   "cell_type": "markdown",
   "metadata": {},
   "source": [
    "## Умножение"
   ]
  },
  {
   "cell_type": "code",
   "execution_count": null,
   "metadata": {
    "dotnet_interactive": {
     "language": "csharp"
    },
    "polyglot_notebook": {
     "kernelName": "csharp"
    }
   },
   "outputs": [
    {
     "name": "stdout",
     "output_type": "stream",
     "text": []
    }
   ],
   "source": [
    "int c = a * b;\n",
    "Console.WriteLine(c);"
   ]
  },
  {
   "cell_type": "markdown",
   "metadata": {},
   "source": [
    "## Деление"
   ]
  },
  {
   "cell_type": "code",
   "execution_count": null,
   "metadata": {
    "dotnet_interactive": {
     "language": "csharp"
    },
    "polyglot_notebook": {
     "kernelName": "csharp"
    }
   },
   "outputs": [
    {
     "name": "stdout",
     "output_type": "stream",
     "text": []
    }
   ],
   "source": [
    "int c = a / b;\n",
    "Console.WriteLine(c);"
   ]
  },
  {
   "cell_type": "markdown",
   "metadata": {},
   "source": [
    "# Порядок действий\n",
    "\n",
    "Когда дело доходит до математики, C# следует порядку операций. То есть сначала выполняется умножение и деление, затем сложение и вычитание.\n",
    "> Какой была бы математика, если бы C# не следовал порядку операций, а просто выполнял математические действия слева направо?"
   ]
  },
  {
   "cell_type": "code",
   "execution_count": null,
   "metadata": {
    "dotnet_interactive": {
     "language": "csharp"
    },
    "polyglot_notebook": {
     "kernelName": "csharp"
    }
   },
   "outputs": [
    {
     "name": "stdout",
     "output_type": "stream",
     "text": []
    }
   ],
   "source": [
    "int a = 5;\n",
    "int b = 4;\n",
    "int c = 2;\n",
    "int d = a + b * c;\n",
    "Console.WriteLine(d);"
   ]
  },
  {
   "cell_type": "markdown",
   "metadata": {},
   "source": [
    "## Использование скобок\n",
    "\n",
    "Вы также можете установить другой порядкок, заключая в круглые скобки то действие, которое вы хотите сделать первым.\n",
    "> Попробуйте"
   ]
  },
  {
   "cell_type": "code",
   "execution_count": null,
   "metadata": {
    "dotnet_interactive": {
     "language": "csharp"
    },
    "polyglot_notebook": {
     "kernelName": "csharp"
    }
   },
   "outputs": [
    {
     "name": "stdout",
     "output_type": "stream",
     "text": []
    }
   ],
   "source": [
    "int d = (a + b) * c;\n",
    "Console.WriteLine(d);"
   ]
  },
  {
   "cell_type": "markdown",
   "metadata": {},
   "source": [
    "Вы можете сделать математику настолько длинной и сложной, насколько захотите.\n",
    "> Можно ли усложнить эту строку еще больше?"
   ]
  },
  {
   "cell_type": "code",
   "execution_count": null,
   "metadata": {
    "dotnet_interactive": {
     "language": "csharp"
    },
    "polyglot_notebook": {
     "kernelName": "csharp"
    }
   },
   "outputs": [
    {
     "name": "stdout",
     "output_type": "stream",
     "text": []
    }
   ],
   "source": [
    "int d = (a + b) - 6 * c + (12 * 4) / 3 + 12;\n",
    "Console.WriteLine(d);"
   ]
  },
  {
   "cell_type": "markdown",
   "metadata": {},
   "source": [
    "## Целые числа: целые, несмотря ни на что\n",
    "\n",
    "Целочисленная математика всегда дает целые числа. Это означает, что даже если математические вычисления должны дать десятичное число или дробь, ответ будет усечен до целого числа.\n",
    "> Проверьте это. Каким на самом деле должен быть ответ?"
   ]
  },
  {
   "cell_type": "code",
   "execution_count": null,
   "metadata": {
    "dotnet_interactive": {
     "language": "csharp"
    },
    "polyglot_notebook": {
     "kernelName": "csharp"
    }
   },
   "outputs": [
    {
     "name": "stdout",
     "output_type": "stream",
     "text": []
    }
   ],
   "source": [
    "int a = 7;\n",
    "int b = 4;\n",
    "int c = 3;\n",
    "int d = (a + b) / c;\n",
    "Console.WriteLine(d);"
   ]
  },
  {
   "cell_type": "markdown",
   "metadata": {},
   "source": [
    "# Playground\n",
    "\n",
    "Поиграйте с тем, что вы узнали! Вот несколько идей:\n",
    "> Есть ли у вас домашние задания или проекты, требующие математики? Попробуйте использовать код вместо калькулятора!\n",
    ">\n",
    "> Как округляются целые числа? Они всегда округляются? Вниз? Или до ближайшего целого числа?\n",
    ">\n",
    "> Как работает Порядок действий? Поиграйтесь со скобками."
   ]
  },
  {
   "cell_type": "code",
   "execution_count": 3,
   "metadata": {
    "dotnet_interactive": {
     "language": "csharp"
    },
    "polyglot_notebook": {
     "kernelName": "csharp"
    }
   },
   "outputs": [
    {
     "name": "stdout",
     "output_type": "stream",
     "text": [
      "Playground\n",
      "2\n",
      "8\n"
     ]
    }
   ],
   "source": [
    "Console.WriteLine(\"Playground\");\n",
    "int a = 30;\n",
    "int b = 50;\n",
    "int c = 10;\n",
    "int d = ((a + b) + (a + c)) / b;\n",
    "Console.WriteLine(d);\n",
    "Console.WriteLine((2 + 2) * 2);"
   ]
  },
  {
   "cell_type": "markdown",
   "metadata": {},
   "source": [
    "# Числа и целочисленная точность\n",
    "\n",
    "Посмотрите полное [видео по C# 101](https://www.youtube.com/watch?v=31EmPADtv4w&list=PLdo4fOcmZ0oVxKLQCHpiUWun7vlJJvUiN&index=6) для этого модуля.\n",
    "\n",
    "Как вы узнали в последнем модуле, при выполнении математических операций с целыми числами в результате вы получаете только целые числа, а не десятичные или дробные. Числа `усечены`, что означает, что остаток отрезан. Остаток можно найти с помощью оператора остатка `%`. Остаток — это сумма, оставшаяся от задачи деления.\n",
    "> Давайте попробуем!"
   ]
  },
  {
   "cell_type": "code",
   "execution_count": 4,
   "metadata": {
    "dotnet_interactive": {
     "language": "csharp"
    },
    "polyglot_notebook": {
     "kernelName": "csharp"
    }
   },
   "outputs": [
    {
     "name": "stdout",
     "output_type": "stream",
     "text": [
      "quotient: 3\n",
      "remainder: 2\n"
     ]
    }
   ],
   "source": [
    "int a = 7;\n",
    "int b = 4;\n",
    "int c = 3;\n",
    "int d = (a + b) / c;\n",
    "int e = (a + b) % c;\n",
    "Console.WriteLine($\"quotient: {d}\");\n",
    "Console.WriteLine($\"remainder: {e}\");"
   ]
  },
  {
   "cell_type": "markdown",
   "metadata": {},
   "source": [
    "Что это значит? Итак, когда вы берете 11 и делите его на 3, есть 3 тройки, которые вписываются в 11, с двумя остатками или оставшимися. Вот почему 3 — частное, а 2 — остаток.\n",
    "\n",
    "## Минимальный и максимальный размер целого числа\n",
    "\n",
    "Из-за того, как целые числа структурированы при кодировании, существует ограничение на их размер.\n",
    "> Узнайте, что это такое, выполнив следующий код!"
   ]
  },
  {
   "cell_type": "code",
   "execution_count": 5,
   "metadata": {
    "dotnet_interactive": {
     "language": "csharp"
    },
    "polyglot_notebook": {
     "kernelName": "csharp"
    }
   },
   "outputs": [
    {
     "name": "stdout",
     "output_type": "stream",
     "text": [
      "The range of integers is -2147483648 to 2147483647\r\n"
     ]
    }
   ],
   "source": [
    "int max = int.MaxValue;\n",
    "int min = int.MinValue;\n",
    "Console.WriteLine($\"The range of integers is {min} to {max}\");"
   ]
  },
  {
   "cell_type": "markdown",
   "metadata": {},
   "source": [
    "Это все еще довольно большой диапазон!\n",
    "> Но что произойдет, если вы попытаетесь выйти за пределы?"
   ]
  },
  {
   "cell_type": "code",
   "execution_count": null,
   "metadata": {
    "dotnet_interactive": {
     "language": "csharp"
    },
    "polyglot_notebook": {
     "kernelName": "csharp"
    }
   },
   "outputs": [],
   "source": [
    "int what = max + 3;\n",
    "Console.WriteLine($\"An example of overflow: {what}\");"
   ]
  },
  {
   "cell_type": "markdown",
   "metadata": {},
   "source": [
    "Это число, которое должно быть очень большим, теперь близко к минимуму! Это происходит потому, что `переполнение` «заворачивается», возвращаясь к минимуму и затем продолжая считать.\n",
    "\n",
    "## Числа двойной точности: точность и размер\n",
    "\n",
    "Числа двойной точности — это еще одна форма чисел. Они могут удерживать и отвечать в формате с плавающей запятой.\n",
    "> Повторите тот же код с самого начала и увидите разницу, которую дает double."
   ]
  },
  {
   "cell_type": "code",
   "execution_count": 6,
   "metadata": {
    "dotnet_interactive": {
     "language": "csharp"
    },
    "polyglot_notebook": {
     "kernelName": "csharp"
    }
   },
   "outputs": [
    {
     "name": "stdout",
     "output_type": "stream",
     "text": [
      "3,6666666666666665\r\n"
     ]
    }
   ],
   "source": [
    "double a = 7;\n",
    "double b = 4;\n",
    "double c = 3;\n",
    "double d = (a + b) / c;\n",
    "Console.WriteLine(d);"
   ]
  },
  {
   "cell_type": "markdown",
   "metadata": {},
   "source": [
    "> Вот более сложное выражение, которое можно попробовать:"
   ]
  },
  {
   "cell_type": "code",
   "execution_count": 7,
   "metadata": {
    "dotnet_interactive": {
     "language": "csharp"
    },
    "polyglot_notebook": {
     "kernelName": "csharp"
    }
   },
   "outputs": [
    {
     "name": "stdout",
     "output_type": "stream",
     "text": [
      "5,25\r\n"
     ]
    }
   ],
   "source": [
    "double a = 19;\n",
    "double b = 23;\n",
    "double c = 8;\n",
    "double d = (a + b) / c;\n",
    "Console.WriteLine(d);"
   ]
  },
  {
   "cell_type": "markdown",
   "metadata": {},
   "source": [
    "> Узнайте диапазон чисел двойной точности:"
   ]
  },
  {
   "cell_type": "code",
   "execution_count": 8,
   "metadata": {
    "dotnet_interactive": {
     "language": "csharp"
    },
    "polyglot_notebook": {
     "kernelName": "csharp"
    }
   },
   "outputs": [
    {
     "name": "stdout",
     "output_type": "stream",
     "text": [
      "The range of double is -1,7976931348623157E+308 to 1,7976931348623157E+308\r\n"
     ]
    }
   ],
   "source": [
    "double max = double.MaxValue;\n",
    "double min = double.MinValue;\n",
    "Console.WriteLine($\"The range of double is {min} to {max}\");"
   ]
  },
  {
   "cell_type": "markdown",
   "metadata": {},
   "source": [
    "Это довольно много! Гораздо больше целых чисел.\n",
    "\n",
    "Конечно, числа двойной точности не идеальны. У них также есть ошибки округления.\n",
    "> Посмотрите на это округление:"
   ]
  },
  {
   "cell_type": "code",
   "execution_count": null,
   "metadata": {
    "dotnet_interactive": {
     "language": "csharp"
    },
    "polyglot_notebook": {
     "kernelName": "csharp"
    }
   },
   "outputs": [],
   "source": [
    "double third = 1.0 / 3.0;\n",
    "Console.WriteLine(third);"
   ]
  },
  {
   "cell_type": "markdown",
   "metadata": {},
   "source": [
    "Технически, 1/3 преобразованная в десятичное число, должна быть 3, повторяющейся бесконечно, но это непрактично при кодировании. Однако об этом полезно знать, если вы работаете с чрезвычайно точными переменными."
   ]
  },
  {
   "cell_type": "markdown",
   "metadata": {},
   "source": [
    "# Playground\n",
    "\n",
    "Поиграйте с тем, что вы узнали! Вот несколько идей:\n",
    "> Есть домашнее задание или проекты, над которыми нужно поработать по математике? Попробуйте использовать код вместо калькулятора.\n",
    ">\n",
    "> Луна находится на расстоянии 238 855 миль от Земли. Если бы вы использовали расстояние до Луны в задаче кодирования, нужно ли было бы использовать целые числа или числа двойной точности? Что, если бы вы измеряли в дюймах? А что насчет солнца? Оно в 92 955 828 милях отсюда.\n",
    ">\n",
    "> Если человек застрял в использовании целых чисел, как он сможет распечатать задачу на деление в формате смешанной дроби?"
   ]
  },
  {
   "cell_type": "code",
   "execution_count": 14,
   "metadata": {
    "dotnet_interactive": {
     "language": "csharp"
    },
    "polyglot_notebook": {
     "kernelName": "csharp"
    }
   },
   "outputs": [
    {
     "name": "stdout",
     "output_type": "stream",
     "text": [
      "Playground\n",
      "22,2\n",
      "233855\n",
      "1932150912\n",
      "92955828\n"
     ]
    }
   ],
   "source": [
    "Console.WriteLine(\"Playground\");\n",
    "double a = 25;\n",
    "double b = 30;\n",
    "double c = 21;\n",
    "double d = ((a * c) + b) / a;\n",
    "Console.WriteLine(d);\n",
    "int moon = 233855;\n",
    "double moon_2 = moon * 63360;\n",
    "int sun = 92955828;\n",
    "Console.WriteLine(moon);\n",
    "Console.WriteLine(moon_2);\n",
    "Console.WriteLine(sun);"
   ]
  },
  {
   "cell_type": "markdown",
   "metadata": {},
   "source": [
    "# Числа и десятичные дроби\n",
    "\n",
    "Посмотрите полное [видео по C# 101](https://www.youtube.com/watch?v=kdKcpF9roeU&list=PLdo4fOcmZ0oVxKLQCHpiUWun7vlJJvUiN&index=7) для этого модуля."
   ]
  },
  {
   "cell_type": "markdown",
   "metadata": {},
   "source": [
    "## Работа с типами фиксированной точки\n",
    "\n",
    "Тип `Decimal` похож на тип `double`. У них не такой большой диапазон, но у них гораздо более высокая точность.\n",
    "\n",
    "> Каков диапазон десятичных чисел?"
   ]
  },
  {
   "cell_type": "code",
   "execution_count": null,
   "metadata": {
    "dotnet_interactive": {
     "language": "csharp"
    },
    "polyglot_notebook": {
     "kernelName": "csharp"
    }
   },
   "outputs": [],
   "source": [
    "decimal min = decimal.MinValue;\n",
    "decimal max = decimal.MaxValue;\n",
    "Console.WriteLine($\"The range of the decimal type is {min} to {max}\");"
   ]
  },
  {
   "cell_type": "markdown",
   "metadata": {},
   "source": [
    "> Как сравниваются по точности числа двойной точности и десятичные дроби?"
   ]
  },
  {
   "cell_type": "code",
   "execution_count": null,
   "metadata": {
    "dotnet_interactive": {
     "language": "csharp"
    },
    "polyglot_notebook": {
     "kernelName": "csharp"
    }
   },
   "outputs": [],
   "source": [
    "double a = 1.0;\n",
    "double b = 3.0;\n",
    "Console.WriteLine(a / b);\n",
    "\n",
    "decimal c = 1.0M;\n",
    "decimal d = 3.0M;\n",
    "Console.WriteLine(c / d);"
   ]
  },
  {
   "cell_type": "markdown",
   "metadata": {},
   "source": [
    "Вы можете видеть, что десятичные дроби имеют более высокую точность, чем числа двойной точности."
   ]
  },
  {
   "cell_type": "markdown",
   "metadata": {},
   "source": [
    "# Playground\n",
    "\n",
    "Поиграйте с тем, что вы узнали! Вот несколько идей:\n",
    "\n",
    "> Можете ли вы найти площадь круга радиусом 2,5 дюйма?\n",
    ">\n",
    "> Как будет выглядеть ответ при изменении типа числа, например целого, короткого и десятичного.\n",
    ">\n",
    "> Подсказка: вместо того, чтобы записывать ответ, вы можете написать `Math.PI` как число \"пи\"."
   ]
  },
  {
   "cell_type": "code",
   "execution_count": 17,
   "metadata": {
    "dotnet_interactive": {
     "language": "csharp"
    },
    "polyglot_notebook": {
     "kernelName": "csharp"
    }
   },
   "outputs": [
    {
     "name": "stdout",
     "output_type": "stream",
     "text": [
      "Playground\n",
      "Площадь круга: 19,634954084936208\n"
     ]
    }
   ],
   "source": [
    "Console.WriteLine(\"Playground\");\n",
    "double radius = 2.5;\n",
    "double area = Math.PI * Math.Pow(radius, 2);\n",
    "\n",
    "Console.WriteLine(\"Площадь круга: \" + area);"
   ]
  }
 ],
 "metadata": {
  "kernelspec": {
   "display_name": ".NET (C#)",
   "language": "C#",
   "name": ".net-csharp"
  },
  "language_info": {
   "name": "polyglot-notebook"
  },
  "polyglot_notebook": {
   "kernelInfo": {
    "defaultKernelName": "csharp",
    "items": [
     {
      "aliases": [],
      "name": "csharp"
     }
    ]
   }
  }
 },
 "nbformat": 4,
 "nbformat_minor": 2
}
